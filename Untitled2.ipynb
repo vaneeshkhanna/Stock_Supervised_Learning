{
 "cells": [
  {
   "cell_type": "code",
   "execution_count": 1,
   "metadata": {},
   "outputs": [],
   "source": [
    "import pandas as pd\n",
    "import numpy as np\n",
    "import pymongo \n",
    "import datetime as dt\n",
    "import matplotlib.pyplot as plt\n",
    "\n",
    "from datetime import datetime\n",
    "from datetime import date\n",
    "from datetime import timedelta\n",
    "from pymongo import MongoClient\n",
    "from nsepy import get_history\n"
   ]
  },
  {
   "cell_type": "code",
   "execution_count": 2,
   "metadata": {},
   "outputs": [],
   "source": [
    "def getstockinfo(Symbol):\n",
    "    client=MongoClient(\"mongodb://localhost:27018/\",username=\"stockadm\",password=\"1qaz@WSX\")\n",
    "    db=client[\"stockWarehouse\"]\n",
    "    equityList=db[\"stocklist\"]\n",
    "    stockWarehouse=db[\"stockWarehouse\"]\n",
    "    stockName=Symbol\n",
    "\n",
    "    stockdf=pd.DataFrame(stockWarehouse.find({'Symbol':stockName},{'_id':0,'Date':1,'Close':1}))\n",
    "    stockdf.head(5)\n",
    "    stockdf.set_index('Date',inplace=True)\n",
    "    stockdf.sort_index(inplace=True)\n",
    "    stockdf['trend'] = 0\n",
    "    stockdf['tmpcol'] = ((stockdf['Close'] > stockdf['Close'].shift(1)) & (stockdf['Close'] > stockdf['Close'].shift(-1)))\n",
    "    stockdf['trend'].loc[stockdf['tmpcol']] = 'upeak'\n",
    "    stockdf['tmpcol'] = ((stockdf['Close']  < stockdf['Close'].shift(1)) & (stockdf['Close'] < stockdf['Close'].shift(-1)))\n",
    "    stockdf['trend'].loc[stockdf['tmpcol']] = 'dpeak'\n",
    "\n",
    "    stockdf.drop(['tmpcol'],axis=1,inplace=True)\n",
    "    return stockdf"
   ]
  },
  {
   "cell_type": "code",
   "execution_count": 3,
   "metadata": {},
   "outputs": [],
   "source": [
    "def backtest(Symbol) :\n",
    "    stockdf=getstockinfo(Symbol)\n",
    "    iterations=round(stockdf.loc[stockdf['trend'] == 'upeak']['trend'].count()*70/100)\n",
    "    cnt = 0\n",
    "    icnt=0\n",
    "\n",
    "    result=pd.DataFrame(columns=['timestamp','cval','pfv','tfv','maxdiff','mse'])\n",
    "    cnt=0\n",
    "    \n",
    "    for i in range(round((stockdf.shape[0])*90/100),1,-1):\n",
    "        if cnt == iterations:\n",
    "            break\n",
    "        if stockdf['trend'].iloc[i] == 'upeak':\n",
    "            for k in range(i+1,stockdf.shape[0]-1):\n",
    "                if stockdf['trend'].iloc[k] == 'dpeak':\n",
    "                    tfv=stockdf['Close'].iloc[k]\n",
    "                    break\n",
    "            icnt=0\n",
    "            iiterations=stockdf.iloc[0:i].shape[0]\n",
    "            tmppfv=[]\n",
    "            for j in range(i-1,1,-1):\n",
    "                if icnt==iiterations:\n",
    "                    break\n",
    "                if stockdf['trend'].iloc[j] == 'dpeak':\n",
    "                    cval=stockdf['Close'].iloc[i]\n",
    "                    timestamp=stockdf.index[i]\n",
    "                    if (cval-((cval - stockdf['Close'].iloc[j]) * 0.618)) < cval :\n",
    "                        tmppfv.append(cval-((cval - stockdf['Close'].iloc[j]) * 0.618))\n",
    "                icnt=icnt + 1\n",
    "            mse=tfv\n",
    "            maxdiff=(cval - sorted(tmppfv,reverse=True)[len(tmppfv)-1])\n",
    "            for val in tmppfv:\n",
    "                if (tfv-val)*(tfv-val) < mse :\n",
    "                    mse=(tfv-val)*(tfv-val)\n",
    "                    pfv=val  \n",
    "            result.loc[cnt]=[timestamp,cval,pfv,tfv,maxdiff,mse]\n",
    "            timestamp=0\n",
    "            cval=0\n",
    "            efv=0\n",
    "            tfv=0\n",
    "            mse=0\n",
    "            cnt=cnt+1\n",
    "      \n",
    "    return (result,(((result['mse'].sum())**(1/2))/len(result)))"
   ]
  },
  {
   "cell_type": "code",
   "execution_count": 7,
   "metadata": {},
   "outputs": [],
   "source": [
    "def check_pred(Symbol):\n",
    "    \n",
    "    stockdf=getstockinfo(Symbol)\n",
    "    todayPrice=stockdf['Close'].iloc[len(stockdf)-1]\n",
    "    peakVal=0\n",
    "    predValList=[]\n",
    "    for i in range(len(stockdf)-1,1,-1):\n",
    "        if peakVal == 0:\n",
    "            if stockdf['trend'].iloc[i] == 'dpeak' :\n",
    "                break\n",
    "            if stockdf['trend'].iloc[i] == 'upeak' :\n",
    "                peakVal=stockdf['Close'].iloc[i]\n",
    "                timestamp=stockdf.index[i]\n",
    "        else :\n",
    "            if stockdf['trend'].iloc[i] == 'dpeak' :\n",
    "                if (peakVal - (( peakVal - stockdf['Close'].iloc[i] ) * .618 )) <= todayPrice:\n",
    "                    timestamp1=stockdf.index[i]\n",
    "                    predValList.append([peakVal - (( peakVal - stockdf['Close'].iloc[i] ) * .618 ),timestamp1])\n",
    "    return(peakVal,timestamp,pd.DataFrame(sorted(predValList,reverse=True)))\n",
    "                \n",
    "            \n",
    "    "
   ]
  },
  {
   "cell_type": "code",
   "execution_count": 9,
   "metadata": {},
   "outputs": [
    {
     "name": "stderr",
     "output_type": "stream",
     "text": [
      "C:\\ProgramData\\Anaconda3\\lib\\site-packages\\pandas\\core\\indexing.py:190: SettingWithCopyWarning: \n",
      "A value is trying to be set on a copy of a slice from a DataFrame\n",
      "\n",
      "See the caveats in the documentation: http://pandas.pydata.org/pandas-docs/stable/indexing.html#indexing-view-versus-copy\n",
      "  self._setitem_with_indexer(indexer, value)\n"
     ]
    },
    {
     "name": "stdout",
     "output_type": "stream",
     "text": [
      "SBIN 0.12790084658543377 187.75 2020-04-09 00:00:00           0          1\n",
      "0  180.9829 2016-05-16\n",
      "1  180.1795 2020-04-03\n"
     ]
    },
    {
     "name": "stderr",
     "output_type": "stream",
     "text": [
      "C:\\ProgramData\\Anaconda3\\lib\\site-packages\\pandas\\core\\indexing.py:190: SettingWithCopyWarning: \n",
      "A value is trying to be set on a copy of a slice from a DataFrame\n",
      "\n",
      "See the caveats in the documentation: http://pandas.pydata.org/pandas-docs/stable/indexing.html#indexing-view-versus-copy\n",
      "  self._setitem_with_indexer(indexer, value)\n"
     ]
    }
   ],
   "source": [
    "Symbol='SBIN'\n",
    "result,MSE=backtest(Symbol)\n",
    "\n",
    "peakval,timestamp,preddf=check_pred(Symbol)\n",
    "print(Symbol,MSE,peakval,timestamp,preddf.head(2))\n"
   ]
  },
  {
   "cell_type": "code",
   "execution_count": null,
   "metadata": {},
   "outputs": [],
   "source": []
  }
 ],
 "metadata": {
  "kernelspec": {
   "display_name": "python3.6",
   "language": "python",
   "name": "python3.6"
  },
  "language_info": {
   "codemirror_mode": {
    "name": "ipython",
    "version": 3
   },
   "file_extension": ".py",
   "mimetype": "text/x-python",
   "name": "python",
   "nbconvert_exporter": "python",
   "pygments_lexer": "ipython3",
   "version": "3.7.3"
  }
 },
 "nbformat": 4,
 "nbformat_minor": 2
}
